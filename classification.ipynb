{
 "cells": [
  {
   "cell_type": "code",
   "execution_count": 1,
   "id": "c5dd89cb",
   "metadata": {},
   "outputs": [],
   "source": [
    "import numpy as np\n",
    "import cv2\n",
    "import os\n",
    "import random\n",
    "import matplotlib.pyplot as plt\n",
    "import pickle"
   ]
  },
  {
   "cell_type": "code",
   "execution_count": 3,
   "id": "94494742",
   "metadata": {},
   "outputs": [],
   "source": [
    "directory = \"/home/sahadev/Desktop/notebook/archive/train/train\"\n",
    "categories = [\"0\",\"1\",\"2\",\"3\",'4','5',\"6\",\"7\",\"8\",\"9\",'10','11',\"12\",\"13\",\"14\",\"15\",'16','17',\"18\",\"19\"]"
   ]
  },
  {
   "cell_type": "code",
   "execution_count": 4,
   "id": "e955b59b",
   "metadata": {},
   "outputs": [
    {
     "name": "stdout",
     "output_type": "stream",
     "text": [
      "/home/sahadev/Desktop/notebook/archive/train/train/0\n",
      "0\n",
      "/home/sahadev/Desktop/notebook/archive/train/train/1\n",
      "1\n",
      "/home/sahadev/Desktop/notebook/archive/train/train/2\n",
      "2\n",
      "/home/sahadev/Desktop/notebook/archive/train/train/3\n",
      "3\n",
      "/home/sahadev/Desktop/notebook/archive/train/train/4\n",
      "4\n",
      "/home/sahadev/Desktop/notebook/archive/train/train/5\n",
      "5\n",
      "/home/sahadev/Desktop/notebook/archive/train/train/6\n",
      "6\n",
      "/home/sahadev/Desktop/notebook/archive/train/train/7\n",
      "7\n",
      "/home/sahadev/Desktop/notebook/archive/train/train/8\n",
      "8\n",
      "/home/sahadev/Desktop/notebook/archive/train/train/9\n",
      "9\n",
      "/home/sahadev/Desktop/notebook/archive/train/train/10\n",
      "10\n",
      "/home/sahadev/Desktop/notebook/archive/train/train/11\n",
      "11\n",
      "/home/sahadev/Desktop/notebook/archive/train/train/12\n",
      "12\n",
      "/home/sahadev/Desktop/notebook/archive/train/train/13\n",
      "13\n",
      "/home/sahadev/Desktop/notebook/archive/train/train/14\n",
      "14\n",
      "/home/sahadev/Desktop/notebook/archive/train/train/15\n",
      "15\n",
      "/home/sahadev/Desktop/notebook/archive/train/train/16\n",
      "16\n",
      "/home/sahadev/Desktop/notebook/archive/train/train/17\n",
      "17\n",
      "/home/sahadev/Desktop/notebook/archive/train/train/18\n",
      "18\n",
      "/home/sahadev/Desktop/notebook/archive/train/train/19\n",
      "19\n"
     ]
    }
   ],
   "source": [
    "img_size = 100\n",
    "data = []\n",
    "\n",
    "for category in categories:\n",
    "    folder = os.path.join(directory,category)\n",
    "    print(folder)\n",
    "    label = categories.index(category)\n",
    "    print(label)\n",
    "    for img in os.listdir(folder):\n",
    "        img_path = os.path.join(folder, img)\n",
    "        img_arr = cv2.imread(img_path)\n",
    "        cv2.resize(img_arr, (img_size,img_size))\n",
    "        data.append([img_arr,label])"
   ]
  },
  {
   "cell_type": "code",
   "execution_count": 5,
   "id": "275fd94d",
   "metadata": {},
   "outputs": [
    {
     "data": {
      "text/plain": [
       "18000"
      ]
     },
     "execution_count": 5,
     "metadata": {},
     "output_type": "execute_result"
    }
   ],
   "source": [
    "len(data)"
   ]
  },
  {
   "cell_type": "code",
   "execution_count": 6,
   "id": "6698d937",
   "metadata": {},
   "outputs": [
    {
     "name": "stdout",
     "output_type": "stream",
     "text": [
      "Label at position 1: 0\n"
     ]
    }
   ],
   "source": [
    "label_at_position_1 = data[0][1]\n",
    "print(\"Label at position 1:\", label_at_position_1)\n"
   ]
  },
  {
   "cell_type": "code",
   "execution_count": 7,
   "id": "e1398645",
   "metadata": {},
   "outputs": [],
   "source": [
    "random.shuffle(data)"
   ]
  },
  {
   "cell_type": "code",
   "execution_count": 10,
   "id": "b503bbf2",
   "metadata": {},
   "outputs": [],
   "source": [
    "x = []\n",
    "y = []\n",
    "\n",
    "for features,labels in data:\n",
    "    x.append(features)\n",
    "    y.append(labels)"
   ]
  },
  {
   "cell_type": "code",
   "execution_count": 11,
   "id": "24174e28",
   "metadata": {},
   "outputs": [
    {
     "data": {
      "text/plain": [
       "0"
      ]
     },
     "execution_count": 11,
     "metadata": {},
     "output_type": "execute_result"
    }
   ],
   "source": [
    "y[0]\n"
   ]
  },
  {
   "cell_type": "code",
   "execution_count": 13,
   "id": "2ee95bcc",
   "metadata": {},
   "outputs": [
    {
     "data": {
      "text/plain": [
       "(18000,)"
      ]
     },
     "execution_count": 13,
     "metadata": {},
     "output_type": "execute_result"
    }
   ],
   "source": [
    "y.shape"
   ]
  },
  {
   "cell_type": "code",
   "execution_count": 12,
   "id": "ec2c99f3",
   "metadata": {},
   "outputs": [],
   "source": [
    "x = np.array(x)\n",
    "y = np.array(y)"
   ]
  },
  {
   "cell_type": "code",
   "execution_count": 14,
   "id": "a71aa915",
   "metadata": {},
   "outputs": [],
   "source": [
    "pickle.dump(x,open('./archive/x.pkl','wb'))\n",
    "pickle.dump(y,open('./archive/y.pkl','wb'))"
   ]
  },
  {
   "cell_type": "code",
   "execution_count": 17,
   "id": "55873d72",
   "metadata": {},
   "outputs": [
    {
     "data": {
      "text/plain": [
       "(18000,)"
      ]
     },
     "execution_count": 17,
     "metadata": {},
     "output_type": "execute_result"
    }
   ],
   "source": [
    "y.shape"
   ]
  }
 ],
 "metadata": {
  "kernelspec": {
   "display_name": "Python 3 (ipykernel)",
   "language": "python",
   "name": "python3"
  },
  "language_info": {
   "codemirror_mode": {
    "name": "ipython",
    "version": 3
   },
   "file_extension": ".py",
   "mimetype": "text/x-python",
   "name": "python",
   "nbconvert_exporter": "python",
   "pygments_lexer": "ipython3",
   "version": "3.11.7"
  }
 },
 "nbformat": 4,
 "nbformat_minor": 5
}
